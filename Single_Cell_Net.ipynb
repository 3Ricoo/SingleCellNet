{
 "cells": [
  {
   "cell_type": "markdown",
   "metadata": {},
   "source": [
    "# Single-cell Net"
   ]
  },
  {
   "cell_type": "markdown",
   "metadata": {},
   "source": [
    "## Literature research"
   ]
  },
  {
   "cell_type": "markdown",
   "metadata": {},
   "source": [
    "### Pure GRN"
   ]
  },
  {
   "cell_type": "markdown",
   "metadata": {},
   "source": [
    "- __GRN research__\n",
    "\n",
    "  - Two approaches: \n",
    "     - __<font color = blue>forward research</font>__ means knowing the network structure and studying network functions;\n",
    "     - __<font color = blue>reverse engineering</font>__ includes known stimulus response relationships or input-output relationships,     detecting network structures, etc. \n",
    "  - A close look:<br>\n",
    "    The developed mathematical models of gene regulation networks mainly include directed graphs, Boolean networks, Bayesian network models, differential equation models, stochastic models, and mixed models. \n",
    "     - Relatively speaking, __directed graphs__ and __Boolean networks__ are relatively simple models and the simulation of the system is qualitative and rough; \n",
    "     - __Bayesian network__ is a probabilistic model that can describe the regulation network quantitatively and randomly; \n",
    "     - __Differential equation networks__ can quantitatively and accurately predict the behavior of the system, however, as the network scale increases largely, these methods face the problem of parameter estimation and difficulty in calculation;\n",
    "     - __Stochastic models__ can accurately fit the number of species molecules in the network, but also because of the large amount of calculation, it is often difficult to apply to the actual large network. \n",
    "  "
   ]
  },
  {
   "cell_type": "markdown",
   "metadata": {},
   "source": [
    "- __Zheng et al., Bioinfomatics, 2015__\n",
    "\n",
    " - __Core idea__: the regulatory rules $R=\\{F, P\\}$ consists of a set of Boolean functions $F$ and corresponding probabilities $P$, which collaboratively determines the dynamic behavior of a GRN.\n",
    " \n",
    " > __Insight__: like Markov Decision Process $<S,A,P,R,\\gamma>$, where $S$ is a set of states corresponding to the $S = (s_1, s_2, \\cdots, s_m)$ in Zheng's paper, $P$ is a state\n",
    " transition probability amd $A$ is a set of actions which might be deemed as a set of boolean functions. In addition, $\\gamma \\in [0,1]$ is a discount factor which is not taken into consideration in Zheng's paper, for the original paper has no conception of the Bellman equation.\n",
    " \n",
    "  > __Insight__: the original paper introduced the conception of reward aimed at infering the $P$. However, the policy $\\pi$ and the value $v_*$ or $v_{\\pi}$ are exactly what we desire in reinforcement learning.\n",
    " \n",
    " - __Model constrcution__ \n",
    "   - The assumption is that GRN provides the driving force that pushes cells from acestral states towards descendant states [(Huang and Kauffman, 2012)](https://link.springer.com/referenceworkentry/10.1007%2F978-1-4614-1800-9_35)\n",
    " \n",
    "   - $s =(x_1, x_2, \\cdots, x_n) $, where $x_i$ is the expression value of the i-th gene. And \"attractors\" are stable states.\n",
    "   __<font color = red>To be continued...</font>__\n",
    "   \n",
    "   - Discretize the continuous gene expression\n",
    " \n",
    " \n",
    " - __Evaluation__\n",
    "   - Precision ($TP/(TP+FP)$)\n",
    "   - Recall ($TP/(TP+FN)$)\n",
    "   - F-measure ($Precision \\times Recall/(Precision + Recall)$)\n",
    "   \n",
    "   \n",
    " - __Question__\n",
    " \n",
    "   - Why introduce Boolean network? Or what advantages do Boolean network possess?\n",
    "   \n",
    "   - If we simplify Boolean network into undirected graph, how could we know the regulatory?  \n",
    " \n",
    "   - \"randomly pick one gene with equal probability and update its state based on its inputs (i.e. regulators)\", random choice is fair and makes sense when we have no prior knowledge.\n",
    " \n"
   ]
  },
  {
   "cell_type": "markdown",
   "metadata": {},
   "source": [
    "- __[Cussat-Blanc et al., Artificial life, 2019](https://www.mitpressjournals.org/doi/full/10.1162/artl_a_00267)__\n",
    "  - Gene Expression, knocking on the door of cell heterogeneity\n",
    "     - Not only do individual cells of the same type have differences in their expression profile( While the characterization of cell types is a convenient way of clustering cell behaviors into classes, there is nevertheless substantial variation between different cells even in the same cell class (or type).), but cells vary their expression levels depending on circumstances and age.[Kim et al., Trends in Cell Biology, 2010]()\n",
    "  \n",
    "  - GRN Inference\n",
    "    - Biological Models\n",
    "    - Dynamics and Analysis\n",
    "    - __<font color = red>To be continued...</font>__\n",
    "    \n",
    "  - Neuromodulation\n",
    "    - Recent work has begun to make a connection between learning and genetic regulation. In 2013, Harrington, et al. studied a robot navigation problem with a robot controlled by a temporal-difference reinforcement learning agent [(Harrington et al., ECAL, 2017)](https://www.mitpressjournals.org/doi/abs/10.1162/isal_a_034). By introducing a neuromodulatory system governed by a GRN to control the agent's learning and memory, the robot was able to outperform traditional reinforcement learning. "
   ]
  },
  {
   "cell_type": "markdown",
   "metadata": {},
   "source": [
    "### GRN combined with RL"
   ]
  },
  {
   "cell_type": "markdown",
   "metadata": {},
   "source": [
    "- __why we introduce RL?__  <br>\n",
    "The goal of controlling a gene regulatory network (GRN) is to generate an intervention strategy, i.e., a control policy, such that by applying the policy the system (the cell) will __avoid undesirable states__. (That is, we apply a series of actions to some pre-selected set of genes, and expect the regulation system not to fall into undesirable states.) <br>\n",
    "_Drive a cell from its current state t some other more desirable state by influencing tis dynamics._\n",
    ">__the undesirable condition__(e.g., identity of genes associated with tumor growth)<br>\n",
    " __the cost of intervention__ (e.g., the severity of side effects and amount of financial cost)\n",
    "- __Do we need to know the GRN in advance?__  <br>\n",
    "YES\n",
    "\n",
    "\n",
    "- __An stunning <font color = blue>dataset</font>: Melanoma__  <br>\n",
    "   - Presented in __*Bittner et al., Nature, 2000.*__\n",
    "   - It is composed of 8067 genes and 31 samples.\n",
    "   - It is reported that the __WNT5A gene__ is highly discriminating factor for metastasizing of melanoma, and deactivating the WNT5A significantly reduces the metastatic effect of WNT5A.\n",
    "   - __<font color = blue>Goal:</font>__ control strategy for keeping the WNT5A deactivated may mitigate the metastasis of melanoma\n",
    "   \n",
    "\n",
    "- __Sirin et al., IJCA, 2013.__ \n",
    "\n",
    "  - Core idea: The authors proposed a method based on Batch Mode Reinforcement Learning that can directly use the available gene expression data to obtain an approximated control policy for gene regulation that avoids the time consuming model building phase.\n",
    "  - __Research time lines:__\n",
    "     - They  model gene regulation as a Probabilistic Boolean Network (PBN) and attempt to identify the best intervention strategy over the constructed PBN ___*[Shmulevich et al., 2002]*___.\n",
    "     - The study described in ___*[Datta et al., 2003]*___ tries to find an optimal finite horizon intervention strategy for PBNs so that at the ultimate horizon, the system achieves the highest probability of being in a desirable state.\n",
    "     - The study in ___*[Pal et al., 2006]*___ finds optimal infinite horizon intervention strategy by formulating the control problem as a Markov Decision Process (MDP) and then solving the problem with the help of the Value Itera- tion algorithm. \n",
    "     - The study in ___*[Faryabi et al., 2007a; 2007b]*___ applies Reinforcement Learning (RL) techniques to obtain an approximate control policy of the constructed PBN.\n",
    "     - ......  \n",
    "     \n",
    "   __<font color = blue>Disadvantages above all:</font>__\n",
    "    <mark><mark> \n",
    "    the basic and most important problem with these solutions for controlling GRNs is that __none of them can solve the control problem for systems with more than several tens of genes__ due to their exponential time and space requirements.\n",
    "    \n",
    "  - __Model__<br>\n",
    "  Converted gene expression data into a series of experience tuples each of which is a 4-tuple $(s, a, s', c)$, where $s$ is the __current state__, $a$ is the __current action__,$s'$ is the __next state__ and $c$ is the __immediate cost__(note that instead of associating reward values for the desirable states, in their method they have associated cost values for undesirable states).\n",
    "     - States: the state of a GRN is defined by the discretized form of the gene expression sample.(note that there are $2^n$ possible states where $n$ is the number of genes in the regulation system.)\n",
    "     - Actions: the action semantics for a gene regulation system is mostly implemented through reversing the value of a specific gene or a set of genes, i.e., changing its value from 0 to 1 or 1 to 0. __Those reversed genes are named as input genes and should be specified in the context of the control problem.__\n",
    "     - Costs: $$cost(s,a)=\n",
    "     \\begin{cases}\n",
    "　　　　0 + n \\times c,  & if\\quad goal(s) \\\\\n",
    "　　　　\\alpha + n \\times c, &  else\n",
    "　　　　\\end{cases}$$\n",
    "    where $\\alpha$ is the penalty of being in an undesirable state, $n$ is the number of input genes whose action value is 1, and $c$ is the cost of action to apply for each input gene.\n",
    "\n",
    "  - __Evaluation__<br>\n",
    "  The steady-state probability distributions are shifted from undesirable states to the desirable states.\n",
    "\n",
    "<img src=\"./fig/steady_state_pro_distribution.png\" width=\"40%\" />\n",
    "\n",
    "- __Papagiannis & Moschoyiannis, arXiv, 2019.__ \n",
    "\n",
    "- __Imani & Braga-Neto, IEEE Transactions on Control of gene regulatory, 2019.__ \n",
    "  - Goal: Control of gene regulatory networks (GRNs) to shift gene expression from undesirable states to desirable ones.\n",
    "\n",
    "- __Wang et al., JVC (Journal of Vibration and Control), 2020.__ \n",
    "\n",
    "  - __Research time lines:__\n",
    "   - __*Sirin et al*__. applied the model-free batch RL __Least-Squares Fitted Q Iteration (FQI) method__ to obtain a controller from data without explicitly modeling the GRN. \n",
    "   - ___*Imani & Braga-Neto*___. used RL with Gaussian processes to achieve near-optimal infinite-horizon control of GRNs with uncertainty in both the interventions and measurements . \n",
    "   - ___*Papagiannis & Moschoyiannis*___ introduced a novel learning approach to GRN control using __Double Deep Q Network (Double DQN)__ with __Prioritized Experience Replay (PER)__ and demonstrated successful results for larger GRNs than previous approaches.\n",
    "   \n",
    "   __<font color = blue>Disadvantages above all:</font>__\n",
    "    <mark><mark> \n",
    "    They are limited to Random Boolean Networks (RBN), which have discrete state and action spaces.\n",
    "    \n"
   ]
  },
  {
   "cell_type": "markdown",
   "metadata": {},
   "source": [
    "### Vanilla GRN_RL\n"
   ]
  },
  {
   "cell_type": "markdown",
   "metadata": {},
   "source": [
    "- __Model__\n",
    "\n",
    "   - __States__: $S$ is a finite set of states, where $S_t \\in \\{0,1\\}^d$ represents the activation/inactivation state of the genes at time $t$ with $1 \\times d$ dimension. \n",
    "   - __Actions__: $A$ can affect the state of genes which has the same input form as state $S$.\n",
    "   - __value function__: in reinforcement learning we use\n",
    "   $$v_{\\pi}(s)=E_{\\pi}[G_t|S_t=s]=E[R_{t+1}+\\gamma v_{\\pi}(S_{t+1})|S_{t+1}=s]$$\n",
    "   where $G_t = R_{t+1}+\\gamma R_{t+2}+\\cdots=R_{t+1}+\\gamma G_{t+1}$\n",
    "       $$q_{\\pi}(s,a)=E_{\\pi}[R_{t+1}+\\gamma q_{\\pi}(S_{t+1},A_{t+1})|S_{t+1}=s,A_{t+1}=a]$$\n",
    "   Here we may follow control problem setting that using __immediate cost__ $C_t(s,a)$ to replace $R_{t}$\n",
    "   The primary goal is to maxiumize $q_{\\pi}$, however, we introduce the __immediate cost__, which let our goal converts into miniumize $q_{\\pi}$ to get the optimal q-function\n",
    "   $$q_*(s,a)=\\min_{\\pi \\in \\Pi}q_{\\pi}(s,a)$$\n",
    "   where $\\Pi$ is the set of all possible policies. The optimal policy is as following:\n",
    "   $$\\pi_*(a)=\\arg \\min_{a \\in A}q_*(s,a)$$\n",
    "   where $A$ is the set of all action spaces.\n",
    "   > __Insight__: how to define the __immediate cost__?<br>\n",
    "     Still exploring...\n",
    "     \n",
    "   > __Insight__: how do we know that value iteration converges to $v_{*}$? or that iterative policy evauation converges to $v_{\\pi}$?<br>\n",
    "   All can be solved by __* Contraction Mapping Theorem *__.\n",
    "   - __How to connect state $S$ and action $A$?__\n",
    "   By introducing the non-linear Markov signal model\n",
    "   $$S_t=f(S_{t-1})\\oplus a_{t-1}\\oplus n_t$$\n",
    "   where $n_k\\in \\{0,1\\}^d$ is Boolean transition noise and $\\oplus$ is __XOR__. Besides, $f(\\cdot)$ is a Boolean function.\n",
    "   \n",
    "   \n",
    "   - __Challenge:__ interaction between input data and environment\n",
    "   \n",
    "- __Vanilla GRN control model based on Q-learning__\n",
    "\n",
    "  - the number of genes = 3, accordingly, the state space = $2^3$\n",
    "  - Rewards: $$R(s,a)=\n",
    "     \\begin{cases}\n",
    "　　　　1,  & if\\ \\ S'\\ \\ is\\ \\ \\mathcal{attractors} \\\\\n",
    "　　　　0, &  else\n",
    "　　　　\\end{cases}$$\n",
    "  \n",
    "  - __Algorithm:__\n",
    "       - hyperparameters: step size $\\alpha \\in (0,1]$, small $\\epsilon >0$\n",
    "       - Initialize $Q(s,a)$, for all $s \\in \\mathscr{S^{+}}$, $ a \\in \\mathscr{A}(s)$, arbitrarily except that $Q(\\mathcal{attractors}, \\cdot)=0$\n",
    "       - Loop for each episode:\n",
    "         - Initialize $S$\n",
    "         - Loop for each step of episode:\n",
    "           - Choose $A$ from $S$ using policy derived from $Q$ ($\\epsilon$-greedy)\n",
    "           - Take action $A$, observe $R, S'$\n",
    "           - $Q(S,A) \\leftarrow Q(S,A) + \\alpha [R + \\gamma \\max_a Q(S',a)-Q(S,A)]$\n",
    "           - $S \\leftarrow S'$\n",
    "         - until S is $\\mathcal{attractors}$\n",
    "   \n",
    "   __<font color = red>To be continued...</font>__"
   ]
  },
  {
   "cell_type": "markdown",
   "metadata": {},
   "source": [
    "### model the GRN\n",
    "- Suppose that the Boollean Network (BN) is characterized by a set of $n$ genes $X=\\{x_1,x_2, \\cdots, x_n\\}$ and a set of Boolean regulatory functions $F=\\{f_1,f_2,\\cdots,f_n\\}$ \n",
    "- e.g. function $f_i(x_{i1},x_{i2},\\cdots, x_{in})$ determines the next value of $x_i$\n",
    "- The ordered values of all genes from an array $S=(x_1,x_2, \\cdots, x_n)$ that defines the system state"
   ]
  },
  {
   "cell_type": "code",
   "execution_count": 1,
   "metadata": {},
   "outputs": [
    {
     "name": "stdout",
     "output_type": "stream",
     "text": [
      "[[1.99999988e-01 5.96046448e-08 3.00000012e-01 4.99999940e-01]]\n"
     ]
    }
   ],
   "source": [
    "import numpy as np\n",
    "Q = np.array([[0, 0, 1/2, 1/2], [1/4, 1/4, 1/4, 1/4], \n",
    "              [1/4, 0, 1/4, 1/2], [1/4, 0, 1/4, 1/2]])\n",
    "init_s = np.array([[0, 1, 0, 0]])\n",
    "eps = 1\n",
    "while eps > 1e-6:\n",
    "    next_s = np.dot(init_s, Q)\n",
    "    eps = np.sqrt(np.sum(np.square(next_s - init_s)))\n",
    "    init_s = next_s\n",
    "print(init_s)"
   ]
  },
  {
   "cell_type": "code",
   "execution_count": 2,
   "metadata": {},
   "outputs": [],
   "source": [
    "import numpy as np\n",
    "\n",
    "def beta_s(w,a,b):\n",
    "    # Beta Function\n",
    "    return w**(a-1)*(1-w)**(b-1)\n",
    "\n",
    "\n",
    "def random_coin(p):\n",
    "    # returns True if the coin with probability P of heads \n",
    "    # comes heads when flipped.\n",
    "    unif = np.random.uniform(0,1)\n",
    "    if unif >= p:\n",
    "        return False\n",
    "    else:\n",
    "        return True\n",
    "\n",
    "\n",
    "def beta_mcmc(N_hops,a,b):\n",
    "    # runs the MCMC chain for Beta Distribution.\n",
    "    states = []\n",
    "    cur = np.random.uniform(0,1)\n",
    "    for i in range(N_hops):\n",
    "        states.append(cur)\n",
    "        next = np.random.uniform(0,1)\n",
    "        ap = min(beta_s(next,a,b)/beta_s(cur,a,b),1) # Calculate the acceptance probability\n",
    "        if random_coin(ap):\n",
    "            cur = next\n",
    "    return states[-1000:] # Returns the last 100 states of the chain"
   ]
  },
  {
   "cell_type": "code",
   "execution_count": 3,
   "metadata": {},
   "outputs": [
    {
     "name": "stderr",
     "output_type": "stream",
     "text": [
      "/home/eric/anaconda3/envs/TF/lib/python3.7/site-packages/ipykernel_launcher.py:12: RuntimeWarning: divide by zero encountered in double_scalars\n",
      "  if sys.path[0] == '':\n",
      "/home/eric/anaconda3/envs/TF/lib/python3.7/site-packages/ipykernel_launcher.py:13: RuntimeWarning: divide by zero encountered in double_scalars\n",
      "  del sys.path[0]\n",
      "/home/eric/anaconda3/envs/TF/lib/python3.7/site-packages/matplotlib/axes/_axes.py:6521: MatplotlibDeprecationWarning: \n",
      "The 'normed' kwarg was deprecated in Matplotlib 2.1 and will be removed in 3.1. Use 'density' instead.\n",
      "  alternative=\"'density'\", removal=\"3.1\")\n"
     ]
    },
    {
     "data": {
      "image/png": "[encoded data removed]",
      "text/plain": [
       "<Figure size 1224x288 with 1 Axes>"
      ]
     },
     "metadata": {
      "needs_background": "light"
     },
     "output_type": "display_data"
    },
    {
     "data": {
      "image/png": "[encoded data removed]",
      "text/plain": [
       "<Figure size 1224x288 with 1 Axes>"
      ]
     },
     "metadata": {
      "needs_background": "light"
     },
     "output_type": "display_data"
    },
    {
     "data": {
      "image/png": "[encoded data removed]",
      "text/plain": [
       "<Figure size 1224x288 with 1 Axes>"
      ]
     },
     "metadata": {
      "needs_background": "light"
     },
     "output_type": "display_data"
    }
   ],
   "source": [
    "#import pylab as pl\n",
    "import matplotlib.pyplot as plt\n",
    "import scipy.special as ss\n",
    "%matplotlib inline\n",
    "plt.rcParams['figure.figsize'] = (17.0, 4.0)\n",
    "\n",
    "# Actual Beta PDF.\n",
    "def beta(a, b, i):\n",
    "    e1 = ss.gamma(a + b)\n",
    "    e2 = ss.gamma(a)\n",
    "    e3 = ss.gamma(b)\n",
    "    e4 = i ** (a - 1)\n",
    "    e5 = (1 - i) ** (b - 1)\n",
    "    return (e1/(e2*e3)) * e4 * e5\n",
    "\n",
    "# Create a function to plot Actual Beta PDF with the Beta Sampled from MCMC Chain.\n",
    "def plot_beta(a, b):\n",
    "    Ly = []\n",
    "    Lx = []\n",
    "    # i_list = np.mgrid[0:1:100j]\n",
    "    i_list = np.linspace(0, 1, 100)\n",
    "    for i in i_list:\n",
    "        Lx.append(i)\n",
    "        Ly.append(beta(a, b, i))\n",
    "    plt.plot(Lx, Ly, label=\"Real Distribution: a=\"+str(a)+\", b=\"+str(b))\n",
    "    plt.hist(beta_mcmc(100000,a,b),  normed=True, bins=25, histtype='step',label=\"Simulated_MCMC: a=\"+str(a)+\", b=\"+str(b))\n",
    "    plt.legend()\n",
    "    # plt.show()\n",
    "plt.figure()    \n",
    "plot_beta(0.1, 0.1)\n",
    "plt.figure()\n",
    "plot_beta(1, 1)\n",
    "plt.figure()\n",
    "plot_beta(2, 3)"
   ]
  },
  {
   "cell_type": "code",
   "execution_count": 6,
   "metadata": {},
   "outputs": [
    {
     "name": "stdout",
     "output_type": "stream",
     "text": [
      "                                \n",
      "Q-table:\n",
      "\n",
      "      still   inverse\n",
      "0  0.000000  0.000000\n",
      "1  0.156591  0.720204\n",
      "2  0.263902  0.810587\n",
      "3  0.002741  0.278655\n",
      "4  0.097865  0.618848\n",
      "5  0.000000  0.202332\n",
      "6  0.000810  0.331857\n",
      "7  0.000000  0.050007\n"
     ]
    }
   ],
   "source": [
    "\"\"\"\n",
    "This is a vanilla model for GRN controlling which is based on\n",
    "Q-learning, that is to say it can only handle small space state\n",
    "problem.\n",
    "Here I would take n=3 for example.\n",
    "the\n",
    "\"\"\"\n",
    "\n",
    "import numpy as np\n",
    "import pandas as pd\n",
    "import time\n",
    "import matplotlib.pyplot as plt\n",
    "\n",
    "np.random.seed(3)  # reproducible\n",
    "\n",
    "N_GENES = 3\n",
    "N_STATES = 2 ** N_GENES   # the length of the 1 dimensional world\n",
    "ACTIONS = ['still', 'inverse']     # available actions\n",
    "EPSILON = 0.9   # greedy police\n",
    "ALPHA = 0.1     # learning rate\n",
    "GAMMA = 0.9    # discount factor\n",
    "MAX_EPISODES = 50   # maximum episodes\n",
    "FRESH_TIME = 0.1    # fresh time for one move\n",
    "ATTRACTORS = '000'  # attractors \n",
    "\n",
    "def build_q_table(n_states, actions):\n",
    "    table = pd.DataFrame(\n",
    "        np.zeros((n_states, len(actions))),     # q_table initial values\n",
    "        columns=actions,    # actions's name\n",
    "    )\n",
    "    # print(table)    # show table\n",
    "    return table\n",
    "\n",
    "\n",
    "def choose_action(state, q_table):\n",
    "    # This is how to choose an action\n",
    "    state_actions = q_table.iloc[state, :]\n",
    "    if (np.random.uniform() > EPSILON) or ((state_actions == 0).all()):  # act non-greedy or state-action have no value\n",
    "        action_name = np.random.choice(ACTIONS)\n",
    "    else:   # act greedy\n",
    "        # action_name = state_actions.argmax()\n",
    "        action_name = state_actions.idxmax()\n",
    "        #  replace argmax to idxmax as argmax means\n",
    "        #  a different function in newer version of pandas\n",
    "    return action_name\n",
    "\n",
    "\n",
    "def get_env_feedback(S, A):\n",
    "    # This is how agent will interact with the environment\n",
    "    S_bin = \"{:03b}\".format(S)\n",
    "    a_idx = np.random.randint(0, N_GENES)\n",
    "    if A == 'inverse':    # inverse\n",
    "        if S_bin == '001' and a_idx == 2:   # terminate\n",
    "            S_ = ATTRACTORS\n",
    "            R = 1\n",
    "        elif S_bin == '010' and a_idx == 1:\n",
    "            S_ = ATTRACTORS\n",
    "            R = 1\n",
    "        elif S_bin == '100' and a_idx == 0:\n",
    "            S_ = ATTRACTORS\n",
    "            R = 1\n",
    "        else:\n",
    "            if S_bin[a_idx] == 0:\n",
    "                S_bin = S_bin[:a_idx] + '1' + S_bin[a_idx+1:]\n",
    "                S_ = int(S_bin, 2)\n",
    "                R = 0\n",
    "            else:\n",
    "                S_bin = S_bin[:a_idx] + '0' + S_bin[a_idx+1:]\n",
    "                S_ = int(S_bin, 2)\n",
    "                R = 0\n",
    "    else:   # not inverse\n",
    "        R = 0\n",
    "        S_ = S\n",
    "    return S_, R\n",
    "\n",
    "\n",
    "def update_env(S, episode, step_counter):\n",
    "    # This is how environment be updated\n",
    "    # env_list = ['_']*(N_STATES-1) + ['T']   # '---------T' our environment\n",
    "    env_list = ['_']*(N_STATES)\n",
    "    if S == ATTRACTORS:\n",
    "        interaction = 'Episode %s: total_steps = %s' % (episode+1, step_counter)\n",
    "        print('\\r{}'.format(interaction), end='')\n",
    "        time.sleep(2)\n",
    "        print('\\r                                ', end='')\n",
    "    else:\n",
    "        env_list[S] = 'o'\n",
    "        interaction = ''.join(env_list)\n",
    "        print('\\r{}'.format(interaction), end='')\n",
    "        time.sleep(FRESH_TIME)\n",
    "\n",
    "\n",
    "def rl():\n",
    "    # main part of RL loop\n",
    "    q_table = build_q_table(N_STATES, ACTIONS)\n",
    "    for episode in range(MAX_EPISODES):\n",
    "        step_counter = 0\n",
    "        S = np.random.randint(1, N_STATES)\n",
    "        is_terminated = False\n",
    "        update_env(S, episode, step_counter)\n",
    "        while not is_terminated:\n",
    "\n",
    "            A = choose_action(S, q_table)\n",
    "            S_, R = get_env_feedback(S, A)  # take action & get next state and reward\n",
    "            q_predict = q_table.loc[S, A]\n",
    "            if S_ != ATTRACTORS:\n",
    "                q_target = R + GAMMA * q_table.iloc[S_, :].max()  # next state is not terminal\n",
    "            else:\n",
    "                q_target = R     # next state is terminal\n",
    "                is_terminated = True    # terminate this episode\n",
    "\n",
    "            q_table.loc[S, A] += ALPHA * (q_target - q_predict)  # update\n",
    "            S = S_  # move to next state\n",
    "            # print(S)\n",
    "\n",
    "            update_env(S, episode, step_counter+1)\n",
    "            step_counter += 1\n",
    "\n",
    "    return q_table\n",
    "\n",
    "\n",
    "if __name__ == \"__main__\":\n",
    "    q_table = rl()\n",
    "    print('\\r\\nQ-table:\\n')\n",
    "    print(q_table)\n",
    "    # print(R_list)\n",
    "    #plt.plot(range(MAX_EPISODES), R_list)\n",
    "    #plt.show()\n",
    "\n"
   ]
  }
 ],
 "metadata": {
  "kernelspec": {
   "display_name": "Python [conda env:TF]",
   "language": "python",
   "name": "conda-env-TF-py"
  },
  "language_info": {
   "codemirror_mode": {
    "name": "ipython",
    "version": 3
   },
   "file_extension": ".py",
   "mimetype": "text/x-python",
   "name": "python",
   "nbconvert_exporter": "python",
   "pygments_lexer": "ipython3",
   "version": "3.7.3"
  },
  "toc": {
   "base_numbering": 1,
   "nav_menu": {},
   "number_sections": true,
   "sideBar": true,
   "skip_h1_title": false,
   "title_cell": "Table of Contents",
   "title_sidebar": "Contents",
   "toc_cell": false,
   "toc_position": {},
   "toc_section_display": true,
   "toc_window_display": false
  }
 },
 "nbformat": 4,
 "nbformat_minor": 2
}
